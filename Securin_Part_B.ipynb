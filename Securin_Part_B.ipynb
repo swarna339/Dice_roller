{
  "nbformat": 4,
  "nbformat_minor": 0,
  "metadata": {
    "colab": {
      "provenance": [],
      "authorship_tag": "ABX9TyO4rXrtTAQwEOUF0J6J9B8g",
      "include_colab_link": true
    },
    "kernelspec": {
      "name": "python3",
      "display_name": "Python 3"
    },
    "language_info": {
      "name": "python"
    }
  },
  "cells": [
    {
      "cell_type": "markdown",
      "metadata": {
        "id": "view-in-github",
        "colab_type": "text"
      },
      "source": [
        "<a href=\"https://colab.research.google.com/github/swarna339/Dice_roller/blob/main/Securin_Part_B.ipynb\" target=\"_parent\"><img src=\"https://colab.research.google.com/assets/colab-badge.svg\" alt=\"Open In Colab\"/></a>"
      ]
    },
    {
      "cell_type": "code",
      "execution_count": null,
      "metadata": {
        "colab": {
          "base_uri": "https://localhost:8080/"
        },
        "id": "flE_LHTP6Vqq",
        "outputId": "06f71962-f3f6-4dc9-9f81-7a6f5654589d"
      },
      "outputs": [
        {
          "output_type": "stream",
          "name": "stdout",
          "text": [
            "DICE A: [4, 3, 3, 2, 2, 1] DICE B: [8, 6, 5, 4, 3, 1]\n"
          ]
        }
      ],
      "source": [
        "list1 = list(range(1,5))\n",
        "list2 = list(range(1,12))\n",
        "\n",
        "orgnl = [0.0, 0.0, 0.027777777777777776, 0.05555555555555555, 0.08333333333333333, 0.1111111111111111, 0.1388888888888889, 0.16666666666666666, 0.1388888888888889, 0.1111111111111111, 0.08333333333333333, 0.05555555555555555, 0.027777777777777776]\n",
        "\n",
        "comb1 = []\n",
        "comb2 = []\n",
        "\n",
        "def find_comb_B(ind,temp):\n",
        "    if len(temp)==6:\n",
        "        comb2.append(temp)\n",
        "        return\n",
        "    if ind<0:\n",
        "        return\n",
        "    find_comb_B(ind-1,temp+[list2[ind]])\n",
        "    find_comb_B(ind-1,temp)\n",
        "\n",
        "def find_comb_A(ind,temp):\n",
        "    if len(temp)==6:\n",
        "        comb1.append(temp)\n",
        "        return\n",
        "    if ind<0:\n",
        "        return\n",
        "    find_comb_A(ind,temp+[list1[ind]])\n",
        "    find_comb_A(ind-1,temp)\n",
        "\n",
        "def total_comb(dice_A,dice_B):\n",
        "    return len(dice_A)*len(dice_B)\n",
        "\n",
        "def distribution(dice_A,dice_B):\n",
        "    res = [0 for i in range(max(dice_A)+max(dice_B)+1)]\n",
        "    for i in dice_A:\n",
        "        for j in dice_B:\n",
        "            res[i+j] += 1\n",
        "    return res\n",
        "\n",
        "def probabilities(dice_A,dice_B):\n",
        "    if max(dice_A) + max(dice_B) == 12:\n",
        "        dist = distribution(dice_A,dice_B)\n",
        "        ln = total_comb(dice_A,dice_B)\n",
        "        for event in range(max(dice_A)+max(dice_B)+1):\n",
        "            if dist[event]:\n",
        "                if orgnl[event] != dist[event]/ln:\n",
        "                    return False\n",
        "        return True\n",
        "\n",
        "    return False\n",
        "\n",
        "\n",
        "find_comb_B(len(list2)-1,[])\n",
        "find_comb_A(len(list1)-1,[])\n",
        "\n",
        "for dice_A in comb1:\n",
        "    for dice_B in comb2:\n",
        "        if probabilities(dice_A,dice_B):\n",
        "            print(\"DICE A:\",dice_A,\"DICE B:\",dice_B)"
      ]
    }
  ]
}